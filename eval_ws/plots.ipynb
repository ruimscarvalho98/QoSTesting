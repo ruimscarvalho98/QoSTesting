{
 "cells": [
  {
   "cell_type": "code",
   "execution_count": 5,
   "id": "painful-integrity",
   "metadata": {},
   "outputs": [],
   "source": [
    "import numpy as np\n",
    "import matplotlib.pyplot as plt\n",
    "import sys"
   ]
  },
  {
   "cell_type": "code",
   "execution_count": 6,
   "id": "adopted-trash",
   "metadata": {},
   "outputs": [],
   "source": [
    "sys.path.insert(0,'./results')"
   ]
  },
  {
   "cell_type": "code",
   "execution_count": 13,
   "id": "german-diversity",
   "metadata": {},
   "outputs": [],
   "source": [
    "t8 =    np.loadtxt(fname='results/rtt_reliable_50cm_GS_CF_f1hz_N100_8B_2.csv')\n",
    "t16 =   np.loadtxt(fname='results/rtt_reliable_50cm_GS_CF_f1hz_N100_16B_2.csv')\n",
    "t32 =   np.loadtxt(fname='results/rtt_reliable_50cm_GS_CF_f1hz_N100_32B_2.csv')\n",
    "t64 =   np.loadtxt(fname='results/rtt_reliable_50cm_GS_CF_f1hz_N100_64B_2.csv')\n",
    "t128 =  np.loadtxt(fname='results/rtt_reliable_50cm_GS_CF_f1hz_N100_128B_2.csv')\n",
    "t256 =  np.loadtxt(fname='results/rtt_reliable_50cm_GS_CF_f1hz_N100_256B_2.csv')\n",
    "t512 =  np.loadtxt(fname='results/rtt_reliable_50cm_GS_CF_f1hz_N100_512B_2')#\n",
    "#t1024 = np.loadtxt(fname='results/rtt_reliable_50cm_GS_CF_f1hz_N255_1024B_2')\n",
    "\n"
   ]
  },
  {
   "cell_type": "code",
   "execution_count": 14,
   "id": "marked-albania",
   "metadata": {},
   "outputs": [
    {
     "name": "stderr",
     "output_type": "stream",
     "text": [
      "/home/ruimsc98/.local/lib/python3.8/site-packages/numpy/core/_asarray.py:83: VisibleDeprecationWarning: Creating an ndarray from ragged nested sequences (which is a list-or-tuple of lists-or-tuples-or ndarrays with different lengths or shapes) is deprecated. If you meant to do this, you must specify 'dtype=object' when creating the ndarray\n",
      "  return array(a, dtype, copy=False, order=order)\n"
     ]
    },
    {
     "data": {
      "text/plain": [
       "{'whiskers': [<matplotlib.lines.Line2D at 0x7fe45fcb91c0>,\n",
       "  <matplotlib.lines.Line2D at 0x7fe45fcb94f0>,\n",
       "  <matplotlib.lines.Line2D at 0x7fe45fc447c0>,\n",
       "  <matplotlib.lines.Line2D at 0x7fe45fc44bb0>,\n",
       "  <matplotlib.lines.Line2D at 0x7fe45fc5c1c0>,\n",
       "  <matplotlib.lines.Line2D at 0x7fe45fc5c5b0>,\n",
       "  <matplotlib.lines.Line2D at 0x7fe45fc68b80>,\n",
       "  <matplotlib.lines.Line2D at 0x7fe45fc742e0>,\n",
       "  <matplotlib.lines.Line2D at 0x7fe45fc00640>,\n",
       "  <matplotlib.lines.Line2D at 0x7fe45fc009a0>,\n",
       "  <matplotlib.lines.Line2D at 0x7fe45fc183a0>,\n",
       "  <matplotlib.lines.Line2D at 0x7fe45fc186d0>,\n",
       "  <matplotlib.lines.Line2D at 0x7fe45fc22970>,\n",
       "  <matplotlib.lines.Line2D at 0x7fe45fc2f0d0>],\n",
       " 'caps': [<matplotlib.lines.Line2D at 0x7fe45fcb9820>,\n",
       "  <matplotlib.lines.Line2D at 0x7fe45fcb9b50>,\n",
       "  <matplotlib.lines.Line2D at 0x7fe45fc50250>,\n",
       "  <matplotlib.lines.Line2D at 0x7fe45fc50580>,\n",
       "  <matplotlib.lines.Line2D at 0x7fe45fc5c8e0>,\n",
       "  <matplotlib.lines.Line2D at 0x7fe45fc5cc10>,\n",
       "  <matplotlib.lines.Line2D at 0x7fe45fc74610>,\n",
       "  <matplotlib.lines.Line2D at 0x7fe45fc74940>,\n",
       "  <matplotlib.lines.Line2D at 0x7fe45fc00cd0>,\n",
       "  <matplotlib.lines.Line2D at 0x7fe45fc0c370>,\n",
       "  <matplotlib.lines.Line2D at 0x7fe45fc18a00>,\n",
       "  <matplotlib.lines.Line2D at 0x7fe45fc18d30>,\n",
       "  <matplotlib.lines.Line2D at 0x7fe45fc2f400>,\n",
       "  <matplotlib.lines.Line2D at 0x7fe45fc2f730>],\n",
       " 'boxes': [<matplotlib.lines.Line2D at 0x7fe45fca9d60>,\n",
       "  <matplotlib.lines.Line2D at 0x7fe45fc44880>,\n",
       "  <matplotlib.lines.Line2D at 0x7fe45fc5c280>,\n",
       "  <matplotlib.lines.Line2D at 0x7fe45fc68c40>,\n",
       "  <matplotlib.lines.Line2D at 0x7fe45fc00670>,\n",
       "  <matplotlib.lines.Line2D at 0x7fe45fc18040>,\n",
       "  <matplotlib.lines.Line2D at 0x7fe45fc22a30>],\n",
       " 'medians': [<matplotlib.lines.Line2D at 0x7fe45fcb9eb0>,\n",
       "  <matplotlib.lines.Line2D at 0x7fe45fc508b0>,\n",
       "  <matplotlib.lines.Line2D at 0x7fe45fc682b0>,\n",
       "  <matplotlib.lines.Line2D at 0x7fe45fc74c70>,\n",
       "  <matplotlib.lines.Line2D at 0x7fe45fc0c6a0>,\n",
       "  <matplotlib.lines.Line2D at 0x7fe45fc220a0>,\n",
       "  <matplotlib.lines.Line2D at 0x7fe45fc2fa60>],\n",
       " 'fliers': [<matplotlib.lines.Line2D at 0x7fe45fc444f0>,\n",
       "  <matplotlib.lines.Line2D at 0x7fe45fc50eb0>,\n",
       "  <matplotlib.lines.Line2D at 0x7fe45fc688b0>,\n",
       "  <matplotlib.lines.Line2D at 0x7fe45fc002b0>,\n",
       "  <matplotlib.lines.Line2D at 0x7fe45fc0cca0>,\n",
       "  <matplotlib.lines.Line2D at 0x7fe45fc226a0>,\n",
       "  <matplotlib.lines.Line2D at 0x7fe45fc3b0a0>],\n",
       " 'means': [<matplotlib.lines.Line2D at 0x7fe45fca9d90>,\n",
       "  <matplotlib.lines.Line2D at 0x7fe45fc44820>,\n",
       "  <matplotlib.lines.Line2D at 0x7fe45fc5c220>,\n",
       "  <matplotlib.lines.Line2D at 0x7fe45fc68be0>,\n",
       "  <matplotlib.lines.Line2D at 0x7fe45fc005b0>,\n",
       "  <matplotlib.lines.Line2D at 0x7fe45fc0cf70>,\n",
       "  <matplotlib.lines.Line2D at 0x7fe45fc229d0>]}"
      ]
     },
     "execution_count": 14,
     "metadata": {},
     "output_type": "execute_result"
    },
    {
     "data": {
      "image/png": "[encoded data removed]",
      "text/plain": [
       "<Figure size 432x288 with 1 Axes>"
      ]
     },
     "metadata": {
      "needs_background": "light"
     },
     "output_type": "display_data"
    }
   ],
   "source": [
    "tests = [t8, t16, t32, t64, t128, t256, t512]\n",
    "plt.boxplot(tests,meanline=True,showmeans=True)  "
   ]
  },
  {
   "cell_type": "code",
   "execution_count": null,
   "id": "sticky-toilet",
   "metadata": {},
   "outputs": [],
   "source": []
  },
  {
   "cell_type": "code",
   "execution_count": null,
   "id": "fb4f972f",
   "metadata": {},
   "outputs": [],
   "source": []
  },
  {
   "cell_type": "code",
   "execution_count": null,
   "id": "9e80b3d6",
   "metadata": {},
   "outputs": [],
   "source": []
  }
 ],
 "metadata": {
  "kernelspec": {
   "display_name": "Python 3",
   "language": "python",
   "name": "python3"
  },
  "language_info": {
   "codemirror_mode": {
    "name": "ipython",
    "version": 3
   },
   "file_extension": ".py",
   "mimetype": "text/x-python",
   "name": "python",
   "nbconvert_exporter": "python",
   "pygments_lexer": "ipython3",
   "version": "3.8.5"
  }
 },
 "nbformat": 4,
 "nbformat_minor": 5
}
